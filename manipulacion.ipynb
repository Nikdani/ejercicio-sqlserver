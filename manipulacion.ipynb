{
 "cells": [
  {
   "attachments": {},
   "cell_type": "markdown",
   "metadata": {},
   "source": [
    "                                                                LIBRERIAS\n",
    "                        "
   ]
  },
  {
   "cell_type": "code",
   "execution_count": 12,
   "metadata": {},
   "outputs": [],
   "source": [
    "import pyodbc\n",
    "from sqlalchemy import create_engine\n"
   ]
  },
  {
   "attachments": {},
   "cell_type": "markdown",
   "metadata": {},
   "source": [
    "                                                        CONEXION CON LA BASE DE DATOS."
   ]
  },
  {
   "attachments": {},
   "cell_type": "markdown",
   "metadata": {},
   "source": [
    "Origen"
   ]
  },
  {
   "cell_type": "code",
   "execution_count": 13,
   "metadata": {},
   "outputs": [],
   "source": [
    "# Establecer la conexión a la base de datos de origen\n",
    "server_dborigen = 'localhost'\n",
    "database_dborigen = 'Nicodbsqlserver'\n",
    "driver = '{ODBC Driver 17 for SQL Server}'\n",
    "connection_string_dborigen = f\"DRIVER={driver};SERVER={server_dborigen};DATABASE={database_dborigen};Trusted_Connection=yes;\"\n",
    "conn_dborigen = pyodbc.connect(connection_string_dborigen)\n"
   ]
  },
  {
   "attachments": {},
   "cell_type": "markdown",
   "metadata": {},
   "source": [
    "DESTINO"
   ]
  },
  {
   "cell_type": "code",
   "execution_count": 14,
   "metadata": {},
   "outputs": [],
   "source": [
    "# Establecer la conexión a la base de datos de destino\n",
    "server_dbdestino = 'localhost'\n",
    "database_dbdestino = 'carrosDestino'\n",
    "connection_string_dbdestino = f\"DRIVER={driver};SERVER={server_dbdestino};DATABASE={database_dbdestino};Trusted_Connection=yes;\"\n",
    "conn_dbdestino = pyodbc.connect(connection_string_dbdestino)"
   ]
  },
  {
   "attachments": {},
   "cell_type": "markdown",
   "metadata": {},
   "source": [
    "                                                        CONSULTA CON LA BASE DE DATOS Y EXTRACION "
   ]
  },
  {
   "cell_type": "code",
   "execution_count": 15,
   "metadata": {},
   "outputs": [
    {
     "data": {
      "text/plain": [
       "<pyodbc.Cursor at 0x241b0162530>"
      ]
     },
     "execution_count": 15,
     "metadata": {},
     "output_type": "execute_result"
    }
   ],
   "source": [
    "# Crear un cursor para la base de datos de origen\n",
    "cursor_dborigen = conn_dborigen.cursor()\n",
    "\n",
    "cursor_dborigen.execute(\"SELECT Marca,Modelo,Placa FROM Carros WHERE Marca = 'BMW'\")\n"
   ]
  },
  {
   "cell_type": "code",
   "execution_count": 16,
   "metadata": {},
   "outputs": [
    {
     "name": "stdout",
     "output_type": "stream",
     "text": [
      "BMW , Serie 3 , MNO345\n",
      "BMW , X5 , NOP789\n",
      "BMW , X3 , MNO567\n",
      "BMW , X7 , MNO890\n",
      "BMW , X1 , MNO678\n",
      "BMW , X4 , MNO567\n"
     ]
    }
   ],
   "source": [
    "# Obtener todos los resultados la variable results=, es la que almacena los datos\n",
    "results = cursor_dborigen.fetchall()\n",
    "\n",
    "# Imprimir los resultados\n",
    "for elemento in results:\n",
    "    print(elemento.Marca+\" , \"+elemento.Modelo+' , '+elemento.Placa)\n",
    "    "
   ]
  },
  {
   "attachments": {},
   "cell_type": "markdown",
   "metadata": {},
   "source": [
    "                                                   CARGA DE DATOS EN BASE DE DATOS DESTINO "
   ]
  },
  {
   "cell_type": "code",
   "execution_count": 17,
   "metadata": {},
   "outputs": [],
   "source": [
    "# Crear un cursor para la base de datos de destino de los datos \n",
    "cursor_dbdestino = conn_dbdestino.cursor()"
   ]
  },
  {
   "cell_type": "code",
   "execution_count": 18,
   "metadata": {},
   "outputs": [
    {
     "name": "stdout",
     "output_type": "stream",
     "text": [
      "Los datos ya existen en la base de datos: Marca=BMW, Modelo=Serie 3, Placa=MNO345\n",
      "Los datos ya existen en la base de datos: Marca=BMW, Modelo=X5, Placa=NOP789\n",
      "Los datos ya existen en la base de datos: Marca=BMW, Modelo=X3, Placa=MNO567\n",
      "Los datos ya existen en la base de datos: Marca=BMW, Modelo=X7, Placa=MNO890\n",
      "Los datos ya existen en la base de datos: Marca=BMW, Modelo=X1, Placa=MNO678\n",
      "Los datos ya existen en la base de datos: Marca=BMW, Modelo=X4, Placa=MNO567\n"
     ]
    }
   ],
   "source": [
    "# Crear un cursor para la base de datos de destino de los datos\n",
    "cursor_dbdestino = conn_dbdestino.cursor()\n",
    "\n",
    "# Recorrer sobre los resultados obtenidos\n",
    "for elemento in results:\n",
    "    marca = elemento.Marca\n",
    "    modelo = elemento.Modelo\n",
    "    placa = elemento.Placa\n",
    "    \n",
    "    # Verificar si los datos ya existen en la base de datos\n",
    "    cursor_dbdestino.execute(\"SELECT * FROM Cargadatos WHERE marca=? AND modelo=? AND placa=?\",\n",
    "                             (marca, modelo, placa))\n",
    "    existing_data = cursor_dbdestino.fetchone()\n",
    "    \n",
    "    if existing_data:\n",
    "        # Los datos ya existen en la base de datos, mostrar mensaje de repetición\n",
    "        print(f\"Los datos ya existen en la base de datos: Marca={marca}, Modelo={modelo}, Placa={placa}\")\n",
    "    else:\n",
    "        # Insertar los datos en la tabla \"Cargadatos\" de la base de datos de destino\n",
    "        cursor_dbdestino.execute(\"INSERT INTO Cargadatos (marca, modelo, placa) VALUES (?, ?, ?)\",\n",
    "                                 (marca, modelo, placa))\n",
    "\n",
    "# Confirmar los cambios en la base de datos de destino\n",
    "conn_dbdestino.commit()\n"
   ]
  },
  {
   "attachments": {},
   "cell_type": "markdown",
   "metadata": {},
   "source": [
    "EJECUTO UNA CONSULTA PARA LUEGO MOSTRARLA "
   ]
  },
  {
   "cell_type": "code",
   "execution_count": 19,
   "metadata": {},
   "outputs": [
    {
     "name": "stdout",
     "output_type": "stream",
     "text": [
      "ID: 1002, Marca: BMW, Modelo: Serie 3, Placa: MNO345\n",
      "ID: 1003, Marca: BMW, Modelo: X5, Placa: NOP789\n",
      "ID: 1004, Marca: BMW, Modelo: X3, Placa: MNO567\n",
      "ID: 1005, Marca: BMW, Modelo: X7, Placa: MNO890\n",
      "ID: 1006, Marca: BMW, Modelo: X1, Placa: MNO678\n",
      "ID: 1007, Marca: BMW, Modelo: X4, Placa: MNO567\n"
     ]
    }
   ],
   "source": [
    "# Ejecutar la consulta para seleccionar los datos de la tabla \"Cargadatos\"\n",
    "cursor_dbdestino.execute(\"SELECT id, marca, modelo, placa FROM Cargadatos\")\n",
    "\n",
    "# Obtener todos los resultados\n",
    "results = cursor_dbdestino.fetchall()\n",
    "\n",
    "# Imprimir los resultados\n",
    "for row in results:\n",
    "    id = row[0]\n",
    "    marca = row[1]\n",
    "    modelo = row[2]\n",
    "    placa = row[3]\n",
    "    print(f\"ID: {id}, Marca: {marca}, Modelo: {modelo}, Placa: {placa}\")\n"
   ]
  },
  {
   "cell_type": "code",
   "execution_count": 20,
   "metadata": {},
   "outputs": [],
   "source": [
    "# Cerrar las conexiones\n",
    "conn_dborigen.close()\n",
    "conn_dbdestino.close()"
   ]
  },
  {
   "attachments": {},
   "cell_type": "markdown",
   "metadata": {},
   "source": []
  },
  {
   "attachments": {},
   "cell_type": "markdown",
   "metadata": {},
   "source": [
    "COMO CREAR TABLA VACIA "
   ]
  },
  {
   "cell_type": "code",
   "execution_count": 21,
   "metadata": {},
   "outputs": [
    {
     "ename": "ProgrammingError",
     "evalue": "Attempt to use a closed connection.",
     "output_type": "error",
     "traceback": [
      "\u001b[1;31m---------------------------------------------------------------------------\u001b[0m",
      "\u001b[1;31mProgrammingError\u001b[0m                          Traceback (most recent call last)",
      "Cell \u001b[1;32mIn[21], line 2\u001b[0m\n\u001b[0;32m      1\u001b[0m \u001b[39m# Crear un cursor para la base de datos de destino\u001b[39;00m\n\u001b[1;32m----> 2\u001b[0m cursor_dbdestino \u001b[39m=\u001b[39m conn_dbdestino\u001b[39m.\u001b[39;49mcursor()\n\u001b[0;32m      4\u001b[0m \u001b[39m# Ejecutar la consulta para crear la tabla \"Cargadatos\"\u001b[39;00m\n\u001b[0;32m      5\u001b[0m cursor_dbdestino\u001b[39m.\u001b[39mexecute(\u001b[39m\"\u001b[39m\u001b[39mCREATE TABLE Cargadatos (id INT IDENTITY(1,1) PRIMARY KEY, marca VARCHAR(50), modelo VARCHAR(50), placa VARCHAR(10))\u001b[39m\u001b[39m\"\u001b[39m)\n",
      "\u001b[1;31mProgrammingError\u001b[0m: Attempt to use a closed connection."
     ]
    }
   ],
   "source": [
    "# Crear un cursor para la base de datos de destino\n",
    "cursor_dbdestino = conn_dbdestino.cursor()\n",
    "\n",
    "# Ejecutar la consulta para crear la tabla \"Cargadatos\"\n",
    "cursor_dbdestino.execute(\"CREATE TABLE Cargadatos (id INT IDENTITY(1,1) PRIMARY KEY, marca VARCHAR(50), modelo VARCHAR(50), placa VARCHAR(10))\")\n",
    "\n",
    "# Confirmar los cambios en la base de datos de destino\n",
    "conn_dbdestino.commit()\n",
    "\n",
    "# Cerrar la conexión a la base de datos de destino\n",
    "conn_dbdestino.close()\n"
   ]
  }
 ],
 "metadata": {
  "kernelspec": {
   "display_name": "venv",
   "language": "python",
   "name": "python3"
  },
  "language_info": {
   "codemirror_mode": {
    "name": "ipython",
    "version": 3
   },
   "file_extension": ".py",
   "mimetype": "text/x-python",
   "name": "python",
   "nbconvert_exporter": "python",
   "pygments_lexer": "ipython3",
   "version": "3.11.3"
  },
  "orig_nbformat": 4
 },
 "nbformat": 4,
 "nbformat_minor": 2
}
